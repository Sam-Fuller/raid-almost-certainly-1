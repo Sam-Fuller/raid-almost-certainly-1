{
 "cells": [
  {
   "cell_type": "code",
   "execution_count": 11,
   "metadata": {},
   "outputs": [
    {
     "name": "stdout",
     "output_type": "stream",
     "text": [
      "b'\\xff'\n"
     ]
    }
   ],
   "source": [
    "# create file\n",
    "\n",
    "WRITE_VALUE = True\n",
    "SIZE = 1024 * 1024 # 1MB\n",
    "\n",
    "import os\n",
    "\n",
    "with open('rac1.txt', 'wb') as f:\n",
    "\twrite_text = (bytes([255]) if WRITE_VALUE else bytes([255]))\n",
    "\n",
    "\tprint(write_text)\n",
    "\n",
    "\tfor i in range(SIZE):\n",
    "\t\tf.write(write_text)"
   ]
  },
  {
   "cell_type": "code",
   "execution_count": 12,
   "metadata": {},
   "outputs": [
    {
     "name": "stdout",
     "output_type": "stream",
     "text": [
      "almost certainly True\n",
      "certainty: 1.0\n"
     ]
    }
   ],
   "source": [
    "# read file\n",
    "\n",
    "import os\n",
    "\n",
    "def count_ones_in_bytes(byte_array):\n",
    "    return [bin(byte).count('1') for byte in byte_array]\n",
    "\n",
    "\n",
    "count_1 = 0\n",
    "count_0 = 0\n",
    "\n",
    "with open('rac1.txt', 'rb') as f:\n",
    "\twhile True:\n",
    "\t\tdata = f.read(1024)\n",
    "\t\tif not data:\n",
    "\t\t\tbreak\n",
    "\n",
    "\t\tones = count_ones_in_bytes(data)\n",
    "\t\tcount_1 += sum(ones)\n",
    "\t\tcount_0 += len(data) * 8 - sum(ones)\n",
    "\n",
    "print(\"almost certainly\", True if count_1 > count_0 else False)\n",
    "print('certainty:', count_1 / (count_0 + count_1))\n"
   ]
  }
 ],
 "metadata": {
  "kernelspec": {
   "display_name": "base",
   "language": "python",
   "name": "python3"
  },
  "language_info": {
   "codemirror_mode": {
    "name": "ipython",
    "version": 3
   },
   "file_extension": ".py",
   "mimetype": "text/x-python",
   "name": "python",
   "nbconvert_exporter": "python",
   "pygments_lexer": "ipython3",
   "version": "3.11.7"
  }
 },
 "nbformat": 4,
 "nbformat_minor": 2
}
